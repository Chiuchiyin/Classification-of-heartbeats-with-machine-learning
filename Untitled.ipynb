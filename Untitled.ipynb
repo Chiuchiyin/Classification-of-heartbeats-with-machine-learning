{
 "cells": [
  {
   "cell_type": "markdown",
   "id": "fbfd0ddc-b642-4280-abab-2775939e17b0",
   "metadata": {},
   "source": [
    "## Introduction and Problem Description"
   ]
  }
 ],
 "metadata": {
  "kernelspec": {
   "display_name": "Python 3 (ipykernel)",
   "language": "python",
   "name": "python3"
  },
  "language_info": {
   "codemirror_mode": {
    "name": "ipython",
    "version": 3
   },
   "file_extension": ".py",
   "mimetype": "text/x-python",
   "name": "python",
   "nbconvert_exporter": "python",
   "pygments_lexer": "ipython3",
   "version": "3.11.7"
  }
 },
 "nbformat": 4,
 "nbformat_minor": 5
}
